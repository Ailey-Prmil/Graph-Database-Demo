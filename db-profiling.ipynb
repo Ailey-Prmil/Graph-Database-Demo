{
 "cells": [
  {
   "cell_type": "code",
   "execution_count": 26,
   "id": "c6bb2320",
   "metadata": {},
   "outputs": [],
   "source": [
    "import mysql.connector\n",
    "import time\n",
    "from neo4j import GraphDatabase"
   ]
  },
  {
   "cell_type": "code",
   "execution_count": 27,
   "id": "051cfa9f",
   "metadata": {},
   "outputs": [],
   "source": [
    "# MySQL Connection\n",
    "def execute_mysql_query(query):\n",
    "    connection = mysql.connector.connect(\n",
    "        host='127.0.0.1',  # replace with your MySQL host\n",
    "        port=3308,\n",
    "        user='rdbms',       # replace with your MySQL user\n",
    "        password='rdbms',  # replace with your MySQL password\n",
    "        database='rdbms'  # replace with your database name\n",
    "    )\n",
    "    \n",
    "    cursor = connection.cursor()\n",
    "    \n",
    "    start_time = time.time()  # Start time\n",
    "    cursor.execute(query)\n",
    "    cursor.fetchall()\n",
    "    end_time = time.time()  # End time\n",
    "    \n",
    "    execution_time = end_time - start_time\n",
    "    connection.close()\n",
    "    \n",
    "    return execution_time"
   ]
  },
  {
   "cell_type": "code",
   "execution_count": 28,
   "id": "ee4d3683",
   "metadata": {},
   "outputs": [],
   "source": [
    "# Neo4j Connection\n",
    "def execute_neo4j_query(query):\n",
    "    uri = \"bolt://localhost:7687\"  # replace with your Neo4j URI\n",
    "    username = \"neo4j\"  # replace with your Neo4j username\n",
    "    password = \"graph_db\"  # replace with your Neo4j password\n",
    "\n",
    "    driver = GraphDatabase.driver(uri, auth=(username, password))\n",
    "    session = driver.session()\n",
    "    \n",
    "    start_time = time.time()  # Start time\n",
    "    session.run(query)\n",
    "    end_time = time.time()  # End time\n",
    "    \n",
    "    execution_time = end_time - start_time\n",
    "    session.close()\n",
    "    \n",
    "    return execution_time\n"
   ]
  },
  {
   "cell_type": "code",
   "execution_count": 29,
   "id": "b5805fb2",
   "metadata": {},
   "outputs": [],
   "source": [
    "# Read MySQL queries from queries.sql\n",
    "with open('rdbms_queries.sql', mode='r') as file:\n",
    "    mysql_queries = file.read();\n",
    "\n",
    "mysql_queries = mysql_queries.split(\";\")\n",
    "\n",
    "\n",
    "# Read Cypher queries from queries.cql\n",
    "with open('graph_queries.cql', mode='r') as file:\n",
    "    neo4j_queries = file.read();\n",
    "\n",
    "neo4j_queries = neo4j_queries.split(\";\")"
   ]
  },
  {
   "cell_type": "code",
   "execution_count": 31,
   "id": "46a1b83b",
   "metadata": {},
   "outputs": [
    {
     "name": "stdout",
     "output_type": "stream",
     "text": [
      "1. FIND PEOPLE (NOT YET FRIENDS) WITH SIMILAR MUSIC TASTE BASED ON PLAYLIST OVERLAPS\n",
      "Cypher query execution time: 0.0650 seconds\n",
      "MySQL query execution time: 0.2372 seconds\n",
      "\n",
      "\n",
      "2. FIND PEOPLE WHO LIKES SONG PERFORMED BY THEIR FRIENDS' FOLLOWED ARTISTS AND CONTAINED IN PLAYLISTS CREATED BY THAT FRIEND\n",
      "Cypher query execution time: 0.0767 seconds\n",
      "MySQL query execution time: 3.6187 seconds\n",
      "\n",
      "\n",
      "3. RECOMMEND SONGS THAT ARE LIKED BY YOUR FRIENDS WHO FOLLOW AT LEAST ONE OF THE SAME ARTISTS YOU DO.\n",
      "Cypher query execution time: 0.0687 seconds\n",
      "MySQL query execution time: 1.9346 seconds\n",
      "\n",
      "\n"
     ]
    }
   ],
   "source": [
    "queries = [\n",
    "    \"1. FIND PEOPLE (NOT YET FRIENDS) WITH SIMILAR MUSIC TASTE BASED ON PLAYLIST OVERLAPS\",\n",
    "    \"2. FIND PEOPLE WHO LIKES SONG PERFORMED BY THEIR FRIENDS' FOLLOWED ARTISTS AND CONTAINED IN PLAYLISTS CREATED BY THAT FRIEND\",\n",
    "    \"3. RECOMMEND SONGS THAT ARE LIKED BY YOUR FRIENDS WHO FOLLOW AT LEAST ONE OF THE SAME ARTISTS YOU DO.\"\n",
    "]\n",
    "for i in range(len(queries)):\n",
    "    print (queries[i])\n",
    "    # Measure execution time for Cypher query (Neo4j)\n",
    "    cypher_execution_time = execute_neo4j_query(neo4j_queries[i] + \";\")\n",
    "    print(f\"Cypher query execution time: {cypher_execution_time:.4f} seconds\")\n",
    "    \n",
    "    # Measure execution time for MySQL query\n",
    "    mysql_execution_time = execute_mysql_query(mysql_queries[i] + \";\")\n",
    "    print(f\"MySQL query execution time: {mysql_execution_time:.4f} seconds\")\n",
    "    print(\"\\n\")\n",
    "\n"
   ]
  }
 ],
 "metadata": {
  "kernelspec": {
   "display_name": "pythonProject",
   "language": "python",
   "name": "python3"
  },
  "language_info": {
   "codemirror_mode": {
    "name": "ipython",
    "version": 3
   },
   "file_extension": ".py",
   "mimetype": "text/x-python",
   "name": "python",
   "nbconvert_exporter": "python",
   "pygments_lexer": "ipython3",
   "version": "3.11.5"
  }
 },
 "nbformat": 4,
 "nbformat_minor": 5
}
